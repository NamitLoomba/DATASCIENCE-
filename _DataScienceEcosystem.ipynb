{
 "cells": [
  {
   "cell_type": "markdown",
   "id": "fe6c846e-e1ae-4d8f-8a7c-48a16c0ba70d",
   "metadata": {},
   "source": [
    "# Data Science Tools and Ecosystem"
   ]
  },
  {
   "cell_type": "markdown",
   "id": "6cb171fb-ddc4-4348-9417-73bb37df573a",
   "metadata": {},
   "source": [
    "In this notebook, Data Science Tools and Ecosystem are summarized."
   ]
  },
  {
   "cell_type": "markdown",
   "id": "e1e817c2-dbf8-442f-aedc-4c3123587e14",
   "metadata": {},
   "source": [
    "Some of the popular languages that Data Scientists use are:"
   ]
  },
  {
   "cell_type": "markdown",
   "id": "50d84b52-9cdc-4be0-bd9e-3a54ca0c3d8d",
   "metadata": {},
   "source": [
    "###### 1) PYTHON "
   ]
  },
  {
   "cell_type": "markdown",
   "id": "6928ca19-091c-4906-a637-246aabf8324a",
   "metadata": {},
   "source": [
    "###### 2) R"
   ]
  },
  {
   "cell_type": "markdown",
   "id": "bfb62008-70e0-47cd-bc23-25974e63043b",
   "metadata": {},
   "source": [
    "###### 3) SQL"
   ]
  },
  {
   "cell_type": "markdown",
   "id": "e9409514-0526-4d41-9670-e4f5e201d3d5",
   "metadata": {},
   "source": [
    "###### 4) JAVA"
   ]
  },
  {
   "cell_type": "markdown",
   "id": "5fcf432a-70d6-4506-abea-32e83f89e098",
   "metadata": {},
   "source": [
    "###### 5) JULIA"
   ]
  },
  {
   "cell_type": "markdown",
   "id": "234287cf-8772-4cef-9c36-f7845972e223",
   "metadata": {},
   "source": [
    "Some of the commonly used libraries used by Data Scientists include:"
   ]
  },
  {
   "cell_type": "markdown",
   "id": "5d9f2e5b-e62f-47a1-b0be-b3c20ddaedf6",
   "metadata": {},
   "source": [
    "###### 1) PANDAS "
   ]
  },
  {
   "cell_type": "markdown",
   "id": "caf46e08-b224-4a30-a84f-546f1c06c7b6",
   "metadata": {},
   "source": [
    "###### 2) NUMPY"
   ]
  },
  {
   "cell_type": "markdown",
   "id": "ac5a8ffb-6799-4af1-a025-f2c7311b54dd",
   "metadata": {},
   "source": [
    "###### 3) Scikit-Learn\n"
   ]
  },
  {
   "cell_type": "markdown",
   "id": "2244c0c5-8fa5-4451-bccc-c56d73af15d9",
   "metadata": {},
   "source": [
    "###### 4) Matplotlib"
   ]
  },
  {
   "cell_type": "markdown",
   "id": "7465bd00-9541-40e8-97fa-35eeeeaf9f0a",
   "metadata": {},
   "source": [
    "Some of the commonly used libraries used by Data Scientists include:\n"
   ]
  },
  {
   "cell_type": "markdown",
   "id": "98886cb3-156e-411c-b657-2568339f882b",
   "metadata": {},
   "source": [
    "###### 1) Jupyter Notebook\n"
   ]
  },
  {
   "cell_type": "markdown",
   "id": "e444412b-0769-449d-b3d8-93a72afbe87b",
   "metadata": {},
   "source": [
    "###### 2) RStudio\n"
   ]
  },
  {
   "cell_type": "markdown",
   "id": "2fb40ea7-f784-42ba-8c30-78967428009b",
   "metadata": {},
   "source": [
    "###### 3) Spyder"
   ]
  },
  {
   "cell_type": "markdown",
   "id": "968a40a7-5676-4160-9671-aecb293c4068",
   "metadata": {},
   "source": [
    "### Below are a few examples of evaluating arithmetic expressions in Python.\n",
    "\n"
   ]
  },
  {
   "cell_type": "code",
   "execution_count": 55,
   "id": "8d80c421-2459-49be-9ead-6af447044391",
   "metadata": {},
   "outputs": [
    {
     "data": {
      "text/plain": [
       "17"
      ]
     },
     "execution_count": 55,
     "metadata": {},
     "output_type": "execute_result"
    }
   ],
   "source": [
    "# This a simple arithmetic expression to mutiply then add integers\n",
    "(3*4)+5\n"
   ]
  },
  {
   "cell_type": "code",
   "execution_count": 57,
   "id": "ef3f4cba-53e3-4531-853c-147b4267ef17",
   "metadata": {},
   "outputs": [
    {
     "data": {
      "text/plain": [
       "3.3333333333333335"
      ]
     },
     "execution_count": 57,
     "metadata": {},
     "output_type": "execute_result"
    }
   ],
   "source": [
    "# This will convert 200 minutes to hours by diving by 60\n",
    "200/60\n"
   ]
  },
  {
   "cell_type": "markdown",
   "id": "4292994a-7ed4-455d-9b36-d81ef4a8766c",
   "metadata": {},
   "source": [
    "**OBJECTIVE:** LIST POPULAR LANGUAGES FOR DATA SCIENCE.\n",
    "* PYTHON\n",
    "* SQL\n",
    "* R\n",
    "  \n",
    "\n",
    "\n",
    "## AUTHOR NAME : "
   ]
  },
  {
   "cell_type": "markdown",
   "id": "83c3dfb6-c99e-4ee4-bc1c-b8e36c601488",
   "metadata": {},
   "source": [
    "###### NAMIT LOOMBA "
   ]
  },
  {
   "cell_type": "code",
   "execution_count": null,
   "id": "6bc25a3b-ad32-41f4-861e-bdf9586ce4ec",
   "metadata": {},
   "outputs": [],
   "source": []
  }
 ],
 "metadata": {
  "kernelspec": {
   "display_name": "Python 3 (ipykernel)",
   "language": "python",
   "name": "python3"
  },
  "language_info": {
   "codemirror_mode": {
    "name": "ipython",
    "version": 3
   },
   "file_extension": ".py",
   "mimetype": "text/x-python",
   "name": "python",
   "nbconvert_exporter": "python",
   "pygments_lexer": "ipython3",
   "version": "3.12.4"
  }
 },
 "nbformat": 4,
 "nbformat_minor": 5
}
